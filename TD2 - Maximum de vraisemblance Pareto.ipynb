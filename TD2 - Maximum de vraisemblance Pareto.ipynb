{
 "cells": [
  {
   "cell_type": "markdown",
   "metadata": {
    "id": "h3OJWf08l9-w"
   },
   "source": [
    "## Maximum de vraisemblance d'une loi exponentielle. "
   ]
  },
  {
   "cell_type": "markdown",
   "metadata": {
    "id": "uPPAD7REmrKn"
   },
   "source": [
    "Ce notebook illustre la recherche d'un maximum de vraisemblance dans un modèle exponentiel. \n",
    "\n",
    "Si $X_1,\\dots,X_N$ sont i.i.d de loi Pareto($\\alpha, \\beta$) avec $\\alpha$ fixée ici."
   ]
  },
  {
   "cell_type": "code",
   "execution_count": 14,
   "metadata": {},
   "outputs": [
    {
     "data": {
      "application/vnd.jupyter.widget-view+json": {
       "model_id": "0e8248d785ab459281b6e966662a6856",
       "version_major": 2,
       "version_minor": 0
      },
      "text/plain": [
       "interactive(children=(IntSlider(value=5, description='alpha', max=10, min=1), FloatSlider(value=3.0, descripti…"
      ]
     },
     "metadata": {},
     "output_type": "display_data"
    }
   ],
   "source": [
    "import numpy as np\n",
    "import matplotlib.pyplot as plt\n",
    "from matplotlib import cm\n",
    "from ipywidgets import interactive, interact_manual\n",
    "\n",
    "%matplotlib inline\n",
    "\n",
    "#Plot de la vraisemblance\n",
    "def plot_densite(alpha, beta):\n",
    "    xplot = np.linspace(0.01, 30, num=500)\n",
    "    densite = lambda x : alpha*beta**(alpha)/x**(alpha+1)*(x>= beta)\n",
    "    plt.figure(figsize=(12,6))\n",
    "    plt.xlim(0, 15)\n",
    "    plt.ylim(0, 3)\n",
    "    plt.plot(xplot,densite(xplot), label='densité Pareto')  \n",
    "    plt.legend()\n",
    "\n",
    "interactive_plot = interact_manual(plot_densite, alpha = (1, 10, 1),\n",
    "                                  beta = (1, 5, 0.5))\n",
    "interactive_plot\n",
    "plt.show()"
   ]
  },
  {
   "cell_type": "markdown",
   "metadata": {},
   "source": [
    "On sait que la vraisemblance s'écrit \n",
    "$$L_N(\\beta) = \\alpha ^n \\left(\\prod_{i=1}^n \\frac{1}{X_i^{\\alpha+1}} \\right)\\beta^{\\alpha n} \\textbf{1}\\{\\beta \\leq \\min(X_i)\\},$$"
   ]
  },
  {
   "cell_type": "markdown",
   "metadata": {
    "id": "ae32wiKBmmXg"
   },
   "source": [
    "Executez la prochaine cellule puis appuyez sur \"Run interact\" dans la prochaine cellule. \n",
    "\n",
    "Vous pouvez changer la valeur de $\\beta$ et de $N$ utilisés pour simuler les données. Vous pouvez aussi juste appuyer plusieurs fois sur \"Run interact\" pour voire l'aléa de la vraisemblance."
   ]
  },
  {
   "cell_type": "code",
   "execution_count": 38,
   "metadata": {
    "cellView": "form",
    "colab": {
     "base_uri": "https://localhost:8080/",
     "height": 394,
     "referenced_widgets": [
      "9362a1d2051540f6b8e632cbd1ce8b95",
      "33135e69be47436d8425c3178802d6f6",
      "4ab28b6cfc2f453cb4fc90d80bf2029d",
      "0d27e5dee5204fa58037b4ee0c641768",
      "fd94579003914a4d89e637d75d830a6f",
      "981a6023f8524535ab67c4621de15c98",
      "9f91889c45974036b83bfc9ad80a5ec4",
      "5eaf8dddf7fc4777b01f21473c339ae4",
      "f83f344846a24edf8c1240185347e309",
      "c733672f178f40408b1511dd5ffbfbe6",
      "488d49354f7b4d6b8d40924178e7e8c8",
      "bcb2f8aac524475d9c1f94200a8c3ab4",
      "c2ba4211d0924cc18c09a1d3750837ed"
     ]
    },
    "id": "UBWmGscJfHmB",
    "outputId": "65cea667-fd2b-4423-bdb3-a20f8e7a2e13"
   },
   "outputs": [
    {
     "data": {
      "application/vnd.jupyter.widget-view+json": {
       "model_id": "9b7d5961c76845098032fa9b32c7e553",
       "version_major": 2,
       "version_minor": 0
      },
      "text/plain": [
       "interactive(children=(IntSlider(value=5, description='alpha', max=10, min=1), FloatSlider(value=2.0, descripti…"
      ]
     },
     "metadata": {},
     "output_type": "display_data"
    }
   ],
   "source": [
    "import numpy as np\n",
    "import matplotlib.pyplot as plt\n",
    "from matplotlib import cm\n",
    "from ipywidgets import interactive, interact_manual\n",
    "\n",
    "%matplotlib inline\n",
    "\n",
    "#Plot de la vraisemblance\n",
    "def plot_vraisemblance(alpha, beta, N):\n",
    "    X = (np.random.pareto(alpha, N) + 1) * beta\n",
    "    densite = lambda x, alpha, beta : (x>= beta)*alpha*beta**(alpha)/x**(alpha+1)\n",
    "    likelihood = lambda beta : np.prod(densite(X, alpha, beta))\n",
    "    plt.figure(figsize=(15,6))\n",
    "    bplot = np.linspace(0.5,4.2, num=500)\n",
    "    plt.plot(bplot, [ likelihood(b) for b in bplot], label='vraisemblance')  \n",
    "    plt.axvline(np.min(X), label=\"EMV de beta\", color=\"red\", alpha=0.4)\n",
    "    plt.axvline(beta, label=\"beta théorique\", color=\"lime\", alpha=0.4)\n",
    "    plt.legend()\n",
    "\n",
    "interactive_plot = interact_manual(plot_vraisemblance, alpha = (1, 10, 1), beta = (1, 4, 0.5), \n",
    "                                  N = (2, 20, 2))\n",
    "interactive_plot\n",
    "plt.show()\n"
   ]
  }
 ],
 "metadata": {
  "colab": {
   "collapsed_sections": [],
   "name": "Proposition pour LDD3.ipynb",
   "provenance": []
  },
  "kernelspec": {
   "display_name": "Python 3",
   "language": "python",
   "name": "python3"
  },
  "language_info": {
   "codemirror_mode": {
    "name": "ipython",
    "version": 3
   },
   "file_extension": ".py",
   "mimetype": "text/x-python",
   "name": "python",
   "nbconvert_exporter": "python",
   "pygments_lexer": "ipython3",
   "version": "3.9.1"
  },
  "widgets": {
   "application/vnd.jupyter.widget-state+json": {
    "0d27e5dee5204fa58037b4ee0c641768": {
     "model_module": "@jupyter-widgets/controls",
     "model_name": "IntSliderModel",
     "state": {
      "_dom_classes": [],
      "_model_module": "@jupyter-widgets/controls",
      "_model_module_version": "1.5.0",
      "_model_name": "IntSliderModel",
      "_view_count": null,
      "_view_module": "@jupyter-widgets/controls",
      "_view_module_version": "1.5.0",
      "_view_name": "IntSliderView",
      "continuous_update": true,
      "description": "N",
      "description_tooltip": null,
      "disabled": false,
      "layout": "IPY_MODEL_c733672f178f40408b1511dd5ffbfbe6",
      "max": 40,
      "min": 2,
      "orientation": "horizontal",
      "readout": true,
      "readout_format": "d",
      "step": 4,
      "style": "IPY_MODEL_f83f344846a24edf8c1240185347e309",
      "value": 18
     }
    },
    "33135e69be47436d8425c3178802d6f6": {
     "model_module": "@jupyter-widgets/base",
     "model_name": "LayoutModel",
     "state": {
      "_model_module": "@jupyter-widgets/base",
      "_model_module_version": "1.2.0",
      "_model_name": "LayoutModel",
      "_view_count": null,
      "_view_module": "@jupyter-widgets/base",
      "_view_module_version": "1.2.0",
      "_view_name": "LayoutView",
      "align_content": null,
      "align_items": null,
      "align_self": null,
      "border": null,
      "bottom": null,
      "display": null,
      "flex": null,
      "flex_flow": null,
      "grid_area": null,
      "grid_auto_columns": null,
      "grid_auto_flow": null,
      "grid_auto_rows": null,
      "grid_column": null,
      "grid_gap": null,
      "grid_row": null,
      "grid_template_areas": null,
      "grid_template_columns": null,
      "grid_template_rows": null,
      "height": null,
      "justify_content": null,
      "justify_items": null,
      "left": null,
      "margin": null,
      "max_height": null,
      "max_width": null,
      "min_height": null,
      "min_width": null,
      "object_fit": null,
      "object_position": null,
      "order": null,
      "overflow": null,
      "overflow_x": null,
      "overflow_y": null,
      "padding": null,
      "right": null,
      "top": null,
      "visibility": null,
      "width": null
     }
    },
    "488d49354f7b4d6b8d40924178e7e8c8": {
     "model_module": "@jupyter-widgets/controls",
     "model_name": "ButtonStyleModel",
     "state": {
      "_model_module": "@jupyter-widgets/controls",
      "_model_module_version": "1.5.0",
      "_model_name": "ButtonStyleModel",
      "_view_count": null,
      "_view_module": "@jupyter-widgets/base",
      "_view_module_version": "1.2.0",
      "_view_name": "StyleView",
      "button_color": null,
      "font_weight": ""
     }
    },
    "4ab28b6cfc2f453cb4fc90d80bf2029d": {
     "model_module": "@jupyter-widgets/controls",
     "model_name": "FloatSliderModel",
     "state": {
      "_dom_classes": [],
      "_model_module": "@jupyter-widgets/controls",
      "_model_module_version": "1.5.0",
      "_model_name": "FloatSliderModel",
      "_view_count": null,
      "_view_module": "@jupyter-widgets/controls",
      "_view_module_version": "1.5.0",
      "_view_name": "FloatSliderView",
      "continuous_update": true,
      "description": "p",
      "description_tooltip": null,
      "disabled": false,
      "layout": "IPY_MODEL_5eaf8dddf7fc4777b01f21473c339ae4",
      "max": 0.09,
      "min": 0.01,
      "orientation": "horizontal",
      "readout": true,
      "readout_format": ".2f",
      "step": 0.01,
      "style": "IPY_MODEL_9f91889c45974036b83bfc9ad80a5ec4",
      "value": 0.05
     }
    },
    "5eaf8dddf7fc4777b01f21473c339ae4": {
     "model_module": "@jupyter-widgets/base",
     "model_name": "LayoutModel",
     "state": {
      "_model_module": "@jupyter-widgets/base",
      "_model_module_version": "1.2.0",
      "_model_name": "LayoutModel",
      "_view_count": null,
      "_view_module": "@jupyter-widgets/base",
      "_view_module_version": "1.2.0",
      "_view_name": "LayoutView",
      "align_content": null,
      "align_items": null,
      "align_self": null,
      "border": null,
      "bottom": null,
      "display": null,
      "flex": null,
      "flex_flow": null,
      "grid_area": null,
      "grid_auto_columns": null,
      "grid_auto_flow": null,
      "grid_auto_rows": null,
      "grid_column": null,
      "grid_gap": null,
      "grid_row": null,
      "grid_template_areas": null,
      "grid_template_columns": null,
      "grid_template_rows": null,
      "height": null,
      "justify_content": null,
      "justify_items": null,
      "left": null,
      "margin": null,
      "max_height": null,
      "max_width": null,
      "min_height": null,
      "min_width": null,
      "object_fit": null,
      "object_position": null,
      "order": null,
      "overflow": null,
      "overflow_x": null,
      "overflow_y": null,
      "padding": null,
      "right": null,
      "top": null,
      "visibility": null,
      "width": null
     }
    },
    "9362a1d2051540f6b8e632cbd1ce8b95": {
     "model_module": "@jupyter-widgets/controls",
     "model_name": "VBoxModel",
     "state": {
      "_dom_classes": [
       "widget-interact"
      ],
      "_model_module": "@jupyter-widgets/controls",
      "_model_module_version": "1.5.0",
      "_model_name": "VBoxModel",
      "_view_count": null,
      "_view_module": "@jupyter-widgets/controls",
      "_view_module_version": "1.5.0",
      "_view_name": "VBoxView",
      "box_style": "",
      "children": [
       "IPY_MODEL_4ab28b6cfc2f453cb4fc90d80bf2029d",
       "IPY_MODEL_0d27e5dee5204fa58037b4ee0c641768",
       "IPY_MODEL_fd94579003914a4d89e637d75d830a6f",
       "IPY_MODEL_981a6023f8524535ab67c4621de15c98"
      ],
      "layout": "IPY_MODEL_33135e69be47436d8425c3178802d6f6"
     }
    },
    "981a6023f8524535ab67c4621de15c98": {
     "model_module": "@jupyter-widgets/output",
     "model_name": "OutputModel",
     "state": {
      "_dom_classes": [],
      "_model_module": "@jupyter-widgets/output",
      "_model_module_version": "1.0.0",
      "_model_name": "OutputModel",
      "_view_count": null,
      "_view_module": "@jupyter-widgets/output",
      "_view_module_version": "1.0.0",
      "_view_name": "OutputView",
      "layout": "IPY_MODEL_c2ba4211d0924cc18c09a1d3750837ed",
      "msg_id": "",
      "outputs": [
       {
        "image/png": "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\n",
        "metadata": {
         "needs_background": "light",
         "tags": []
        },
        "output_type": "display_data",
        "text/plain": "<Figure size 432x288 with 1 Axes>"
       }
      ]
     }
    },
    "9f91889c45974036b83bfc9ad80a5ec4": {
     "model_module": "@jupyter-widgets/controls",
     "model_name": "SliderStyleModel",
     "state": {
      "_model_module": "@jupyter-widgets/controls",
      "_model_module_version": "1.5.0",
      "_model_name": "SliderStyleModel",
      "_view_count": null,
      "_view_module": "@jupyter-widgets/base",
      "_view_module_version": "1.2.0",
      "_view_name": "StyleView",
      "description_width": "",
      "handle_color": null
     }
    },
    "bcb2f8aac524475d9c1f94200a8c3ab4": {
     "model_module": "@jupyter-widgets/base",
     "model_name": "LayoutModel",
     "state": {
      "_model_module": "@jupyter-widgets/base",
      "_model_module_version": "1.2.0",
      "_model_name": "LayoutModel",
      "_view_count": null,
      "_view_module": "@jupyter-widgets/base",
      "_view_module_version": "1.2.0",
      "_view_name": "LayoutView",
      "align_content": null,
      "align_items": null,
      "align_self": null,
      "border": null,
      "bottom": null,
      "display": null,
      "flex": null,
      "flex_flow": null,
      "grid_area": null,
      "grid_auto_columns": null,
      "grid_auto_flow": null,
      "grid_auto_rows": null,
      "grid_column": null,
      "grid_gap": null,
      "grid_row": null,
      "grid_template_areas": null,
      "grid_template_columns": null,
      "grid_template_rows": null,
      "height": null,
      "justify_content": null,
      "justify_items": null,
      "left": null,
      "margin": null,
      "max_height": null,
      "max_width": null,
      "min_height": null,
      "min_width": null,
      "object_fit": null,
      "object_position": null,
      "order": null,
      "overflow": null,
      "overflow_x": null,
      "overflow_y": null,
      "padding": null,
      "right": null,
      "top": null,
      "visibility": null,
      "width": null
     }
    },
    "c2ba4211d0924cc18c09a1d3750837ed": {
     "model_module": "@jupyter-widgets/base",
     "model_name": "LayoutModel",
     "state": {
      "_model_module": "@jupyter-widgets/base",
      "_model_module_version": "1.2.0",
      "_model_name": "LayoutModel",
      "_view_count": null,
      "_view_module": "@jupyter-widgets/base",
      "_view_module_version": "1.2.0",
      "_view_name": "LayoutView",
      "align_content": null,
      "align_items": null,
      "align_self": null,
      "border": null,
      "bottom": null,
      "display": null,
      "flex": null,
      "flex_flow": null,
      "grid_area": null,
      "grid_auto_columns": null,
      "grid_auto_flow": null,
      "grid_auto_rows": null,
      "grid_column": null,
      "grid_gap": null,
      "grid_row": null,
      "grid_template_areas": null,
      "grid_template_columns": null,
      "grid_template_rows": null,
      "height": null,
      "justify_content": null,
      "justify_items": null,
      "left": null,
      "margin": null,
      "max_height": null,
      "max_width": null,
      "min_height": null,
      "min_width": null,
      "object_fit": null,
      "object_position": null,
      "order": null,
      "overflow": null,
      "overflow_x": null,
      "overflow_y": null,
      "padding": null,
      "right": null,
      "top": null,
      "visibility": null,
      "width": null
     }
    },
    "c733672f178f40408b1511dd5ffbfbe6": {
     "model_module": "@jupyter-widgets/base",
     "model_name": "LayoutModel",
     "state": {
      "_model_module": "@jupyter-widgets/base",
      "_model_module_version": "1.2.0",
      "_model_name": "LayoutModel",
      "_view_count": null,
      "_view_module": "@jupyter-widgets/base",
      "_view_module_version": "1.2.0",
      "_view_name": "LayoutView",
      "align_content": null,
      "align_items": null,
      "align_self": null,
      "border": null,
      "bottom": null,
      "display": null,
      "flex": null,
      "flex_flow": null,
      "grid_area": null,
      "grid_auto_columns": null,
      "grid_auto_flow": null,
      "grid_auto_rows": null,
      "grid_column": null,
      "grid_gap": null,
      "grid_row": null,
      "grid_template_areas": null,
      "grid_template_columns": null,
      "grid_template_rows": null,
      "height": null,
      "justify_content": null,
      "justify_items": null,
      "left": null,
      "margin": null,
      "max_height": null,
      "max_width": null,
      "min_height": null,
      "min_width": null,
      "object_fit": null,
      "object_position": null,
      "order": null,
      "overflow": null,
      "overflow_x": null,
      "overflow_y": null,
      "padding": null,
      "right": null,
      "top": null,
      "visibility": null,
      "width": null
     }
    },
    "f83f344846a24edf8c1240185347e309": {
     "model_module": "@jupyter-widgets/controls",
     "model_name": "SliderStyleModel",
     "state": {
      "_model_module": "@jupyter-widgets/controls",
      "_model_module_version": "1.5.0",
      "_model_name": "SliderStyleModel",
      "_view_count": null,
      "_view_module": "@jupyter-widgets/base",
      "_view_module_version": "1.2.0",
      "_view_name": "StyleView",
      "description_width": "",
      "handle_color": null
     }
    },
    "fd94579003914a4d89e637d75d830a6f": {
     "model_module": "@jupyter-widgets/controls",
     "model_name": "ButtonModel",
     "state": {
      "_dom_classes": [],
      "_model_module": "@jupyter-widgets/controls",
      "_model_module_version": "1.5.0",
      "_model_name": "ButtonModel",
      "_view_count": null,
      "_view_module": "@jupyter-widgets/controls",
      "_view_module_version": "1.5.0",
      "_view_name": "ButtonView",
      "button_style": "",
      "description": "Run Interact",
      "disabled": false,
      "icon": "",
      "layout": "IPY_MODEL_bcb2f8aac524475d9c1f94200a8c3ab4",
      "style": "IPY_MODEL_488d49354f7b4d6b8d40924178e7e8c8",
      "tooltip": ""
     }
    }
   }
  }
 },
 "nbformat": 4,
 "nbformat_minor": 4
}
