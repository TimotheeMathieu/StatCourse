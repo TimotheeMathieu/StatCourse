{
 "cells": [
  {
   "cell_type": "markdown",
   "metadata": {},
   "source": [
    "# Test dans un modèle gaussien"
   ]
  },
  {
   "cell_type": "markdown",
   "metadata": {},
   "source": [
    "Dans ce notebook on regarde la construction d'un test dans un modèle gaussien. \n",
    "\n",
    "Soient $X_1,\\dots,X_n$ un échantillon i.i.d $\\sim \\mathcal{N}(\\mu,\\sigma^2)$ on veut tester \n",
    "$$H_0: \\, \\mu=\\mu_0 \\quad \\text{VS} \\quad H_1: \\,  \\mu=\\mu_1 $$\n",
    "Ou alors, on peut aussi vouloir tester \n",
    "$$H_0: \\, \\mu=\\mu_0 \\quad \\text{VS} \\quad H_1: \\,  \\mu\\neq \\mu_0 $$\n"
   ]
  },
  {
   "cell_type": "code",
   "execution_count": 59,
   "metadata": {},
   "outputs": [
    {
     "data": {
      "application/vnd.jupyter.widget-view+json": {
       "model_id": "53d115e519344a5880c90e311ee7606c",
       "version_major": 2,
       "version_minor": 0
      },
      "text/plain": [
       "interactive(children=(FloatSlider(value=1.0, description='mu_1', max=1.0, min=-1.0), FloatSlider(value=0.1, de…"
      ]
     },
     "metadata": {},
     "output_type": "display_data"
    }
   ],
   "source": [
    "import numpy as np\n",
    "import matplotlib.pyplot as plt\n",
    "from ipywidgets import interactive, interact_manual\n",
    "from ipywidgets.widgets import FloatSlider\n",
    "from scipy.stats import norm\n",
    "\n",
    "def make_plot(mu_1, alpha, n, H0, alternative):\n",
    "    \n",
    "    plt.figure(figsize=(12,6))\n",
    "    xplot = np.linspace(-5, 5, num=100)\n",
    "    yh0 = norm.pdf(xplot, loc=0, scale=1)\n",
    "    yh1 = norm.pdf(xplot, loc=mu_1*np.sqrt(n))\n",
    "    \n",
    "    plt.plot(xplot, yh0, label='loi sous H0')\n",
    "    plt.plot(xplot, yh1, '--',label='loi sous H1 (inconnue)')\n",
    "    \n",
    "    if (alternative in 'mu=mu1') and (mu_1 >0):\n",
    "        c = norm.ppf(1-alpha)\n",
    "        plt.axvline(c,color=\"r\", label='seuil')\n",
    "        FN = np.linspace(c, 5)\n",
    "        plt.fill_between(FN,norm.pdf(FN), color='C0', label='FN. Aire=alpha', alpha=0.3)\n",
    "        FP = np.linspace(-5, c)\n",
    "        plt.fill_between(FP,norm.pdf(FP, loc=mu_1*np.sqrt(n)), color='C1', label='FP. Aire=?', alpha=0.3)\n",
    "        \n",
    "    elif (alternative == 'mu=mu1') and (mu_1 < 0):\n",
    "        c = norm.ppf(1-alpha)\n",
    "        plt.axvline(c,color=\"r\", label='seuil')\n",
    "        FN = np.linspace(-5,-c)\n",
    "        plt.fill_between(FN,norm.pdf(FN), color='C0', label='FN. Aire=alpha', alpha=0.3)\n",
    "        FP = np.linspace(c, 5)\n",
    "        plt.fill_between(FP,norm.pdf(FP, loc=mu_1*np.sqrt(n)), color='C1', label='FP. Aire=?', alpha=0.3)\n",
    "    else:\n",
    "        c = norm.ppf(1-alpha/2)\n",
    "        plt.axvline(c,color=\"r\", label='seuils')\n",
    "        plt.axvline(-c,color=\"r\")\n",
    "\n",
    "        \n",
    "        FN = np.linspace(-5,-c)\n",
    "        plt.fill_between(FN,norm.pdf(FN), label='FN. Aire=alpha', color='C0', alpha=0.3)\n",
    "        FN = np.linspace(c,5)\n",
    "        plt.fill_between(FN,norm.pdf(FN), color='C0', alpha=0.3)\n",
    "        \n",
    "        FP = np.linspace(-c, c)\n",
    "        plt.fill_between(FP,norm.pdf(FP, loc=mu_1*np.sqrt(n)), label='FP. Aire=?', color='C1', alpha=0.3)\n",
    "        \n",
    "    \n",
    "    \n",
    "    if H0:\n",
    "        echantillon = np.random.normal(size=n)\n",
    "    else:\n",
    "        echantillon = mu_1+np.random.normal(size=n)\n",
    "        \n",
    "    stat_test = np.sqrt(n)*np.mean(echantillon)\n",
    "    \n",
    "    plt.axvline(stat_test,color=\"g\", label='valeur observée T')\n",
    "    \n",
    "    plt.legend()\n",
    "\n",
    "interactive_plot = interact_manual(make_plot, mu_1 = FloatSlider(min=-1, max=1, step=0.1, value=1.0), alpha=(0.001, 0.2, 0.001), \n",
    "                                   n=(2, 20, 5), H0=[True, False], alternative=['mu=mu1', 'mu != 0'])\n",
    "interactive_plot\n",
    "plt.show()"
   ]
  },
  {
   "cell_type": "code",
   "execution_count": null,
   "metadata": {},
   "outputs": [],
   "source": []
  }
 ],
 "metadata": {
  "kernelspec": {
   "display_name": "Python 3",
   "language": "python",
   "name": "python3"
  },
  "language_info": {
   "codemirror_mode": {
    "name": "ipython",
    "version": 3
   },
   "file_extension": ".py",
   "mimetype": "text/x-python",
   "name": "python",
   "nbconvert_exporter": "python",
   "pygments_lexer": "ipython3",
   "version": "3.9.1"
  }
 },
 "nbformat": 4,
 "nbformat_minor": 4
}
